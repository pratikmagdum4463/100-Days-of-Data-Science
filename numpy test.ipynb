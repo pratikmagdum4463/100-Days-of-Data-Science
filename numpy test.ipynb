{
 "cells": [
  {
   "cell_type": "code",
   "execution_count": 1,
   "id": "d0cb4750-2ff3-4d60-838b-daa7bc7d1eab",
   "metadata": {},
   "outputs": [],
   "source": [
    "import numpy as np"
   ]
  },
  {
   "cell_type": "code",
   "execution_count": 2,
   "id": "5ffcdefa-5b3f-4d39-8d20-9ddbc3b466d4",
   "metadata": {},
   "outputs": [
    {
     "name": "stderr",
     "output_type": "stream",
     "text": [
      "<>:1: SyntaxWarning: invalid escape sequence '\\D'\n",
      "<>:1: SyntaxWarning: invalid escape sequence '\\D'\n",
      "C:\\Users\\pratik.magdum\\AppData\\Local\\Temp\\ipykernel_12568\\3460005479.py:1: SyntaxWarning: invalid escape sequence '\\D'\n",
      "  data = np.loadtxt(\"D:\\DS\\Chapter 1\\populations.txt\")\n"
     ]
    },
    {
     "data": {
      "text/plain": [
       "array([[ 1900., 30000.,  4000., 48300.],\n",
       "       [ 1901., 47200.,  6100., 48200.],\n",
       "       [ 1902., 70200.,  9800., 41500.],\n",
       "       [ 1903., 77400., 35200., 38200.],\n",
       "       [ 1904., 36300., 59400., 40600.],\n",
       "       [ 1905., 20600., 41700., 39800.],\n",
       "       [ 1906., 18100., 19000., 38600.],\n",
       "       [ 1907., 21400., 13000., 42300.],\n",
       "       [ 1908., 22000.,  8300., 44500.],\n",
       "       [ 1909., 25400.,  9100., 42100.],\n",
       "       [ 1910., 27100.,  7400., 46000.],\n",
       "       [ 1911., 40300.,  8000., 46800.],\n",
       "       [ 1912., 57000., 12300., 43800.],\n",
       "       [ 1913., 76600., 19500., 40900.],\n",
       "       [ 1914., 52300., 45700., 39400.],\n",
       "       [ 1915., 19500., 51100., 39000.],\n",
       "       [ 1916., 11200., 29700., 36700.],\n",
       "       [ 1917.,  7600., 15800., 41800.],\n",
       "       [ 1918., 14600.,  9700., 43300.],\n",
       "       [ 1919., 16200., 10100., 41300.],\n",
       "       [ 1920., 24700.,  8600., 47300.]])"
      ]
     },
     "execution_count": 2,
     "metadata": {},
     "output_type": "execute_result"
    }
   ],
   "source": [
    "data = np.loadtxt(\"D:\\DS\\Chapter 1\\populations.txt\")\n",
    "data"
   ]
  },
  {
   "cell_type": "code",
   "execution_count": 3,
   "id": "0a0ad13f-267f-4790-92e6-53672b4640e7",
   "metadata": {},
   "outputs": [
    {
     "name": "stdout",
     "output_type": "stream",
     "text": [
      "[1900. 1901. 1902. 1903. 1904. 1905. 1906. 1907. 1908. 1909. 1910. 1911.\n",
      " 1912. 1913. 1914. 1915. 1916. 1917. 1918. 1919. 1920.]\n"
     ]
    }
   ],
   "source": [
    "year, hare, lynx, carrot = data.T\n",
    "print(year)"
   ]
  },
  {
   "cell_type": "code",
   "execution_count": 9,
   "id": "4ac7b122-32b4-45e3-ab24-c3949dd1fc1c",
   "metadata": {},
   "outputs": [
    {
     "name": "stdout",
     "output_type": "stream",
     "text": [
      "[[30000.  4000. 48300.]\n",
      " [47200.  6100. 48200.]\n",
      " [70200.  9800. 41500.]\n",
      " [77400. 35200. 38200.]\n",
      " [36300. 59400. 40600.]\n",
      " [20600. 41700. 39800.]\n",
      " [18100. 19000. 38600.]\n",
      " [21400. 13000. 42300.]\n",
      " [22000.  8300. 44500.]\n",
      " [25400.  9100. 42100.]\n",
      " [27100.  7400. 46000.]\n",
      " [40300.  8000. 46800.]\n",
      " [57000. 12300. 43800.]\n",
      " [76600. 19500. 40900.]\n",
      " [52300. 45700. 39400.]\n",
      " [19500. 51100. 39000.]\n",
      " [11200. 29700. 36700.]\n",
      " [ 7600. 15800. 41800.]\n",
      " [14600.  9700. 43300.]\n",
      " [16200. 10100. 41300.]\n",
      " [24700.  8600. 47300.]]\n"
     ]
    }
   ],
   "source": [
    "# mean population\n",
    "# data [row , column]\n",
    "# taking from 1st column\n",
    "population = data[:,1:]\n",
    "print(population)"
   ]
  },
  {
   "cell_type": "code",
   "execution_count": 10,
   "id": "d59938cf-34ac-470e-ac25-e8537452aff4",
   "metadata": {},
   "outputs": [
    {
     "data": {
      "text/plain": [
       "array([20897.90645809, 16254.59153691,  3322.50622558])"
      ]
     },
     "execution_count": 10,
     "metadata": {},
     "output_type": "execute_result"
    }
   ],
   "source": [
    "# Standard Deviation\n",
    "population.std(axis = 0)"
   ]
  },
  {
   "cell_type": "markdown",
   "id": "7cff8ecd-6293-44ee-8ea8-f5550d4c619c",
   "metadata": {},
   "source": [
    "* In NumPy, argmax() is a function used to find the index of the maximum value in an array."
   ]
  },
  {
   "cell_type": "code",
   "execution_count": null,
   "id": "6c2b1d10-15f9-4525-af9c-611df8e7af81",
   "metadata": {},
   "outputs": [],
   "source": [
    "arr = np.array([10, 20, 5, 40])\n",
    "index = np.argmax(arr)\n",
    "print(index)  # Output: 3"
   ]
  },
  {
   "cell_type": "code",
   "execution_count": 12,
   "id": "beb715b2-8c40-4e91-bd35-b2f16bca8cc0",
   "metadata": {},
   "outputs": [
    {
     "data": {
      "text/plain": [
       "array([2, 2, 0, 0, 1, 1, 2, 2, 2, 2, 2, 2, 0, 0, 0, 1, 2, 2, 2, 2, 2])"
      ]
     },
     "execution_count": 12,
     "metadata": {},
     "output_type": "execute_result"
    }
   ],
   "source": [
    "np.argmax(population, axis = 1)"
   ]
  },
  {
   "cell_type": "markdown",
   "id": "a81c480d-3b62-4630-bfd0-abd840903753",
   "metadata": {},
   "source": [
    "* Broadcasting in NumPy is a powerful feature that allows arithmetic operations on arrays of different shapes. It works by automatically expanding the smaller array so that it has the same shape as the larger one—without actually copying data.\n"
   ]
  },
  {
   "cell_type": "code",
   "execution_count": 13,
   "id": "da651a6d-add4-4f3a-aed5-874013f66376",
   "metadata": {},
   "outputs": [
    {
     "name": "stdout",
     "output_type": "stream",
     "text": [
      "[11 12 13]\n"
     ]
    }
   ],
   "source": [
    "a = np.array([1,2,3])\n",
    "b = 10\n",
    "print(a+b)"
   ]
  },
  {
   "cell_type": "code",
   "execution_count": 15,
   "id": "372545dd-5f69-4851-9a70-0d99185fd63f",
   "metadata": {},
   "outputs": [
    {
     "name": "stdout",
     "output_type": "stream",
     "text": [
      "[[11 22 33]\n",
      " [14 25 36]]\n"
     ]
    }
   ],
   "source": [
    "a = np.array([[1,2,3],[4,5,6]])\n",
    "b = np.array([10,20,30])\n",
    "print(a+b)"
   ]
  },
  {
   "cell_type": "markdown",
   "id": "df265db5-3bca-4302-aa9e-cee337343675",
   "metadata": {},
   "source": [
    "* The np.tile() function in NumPy constructs a new array by repeating an input array. It is often used for creating repeated patterns or preparing arrays for broadcasting.\n",
    "\n",
    "* numpy.tile(A, reps)\n",
    "\n",
    "* \n",
    "A: Input array.\n",
    "reps: Number of repetitions of A along each axis (can be an int or tuple).\n"
   ]
  },
  {
   "cell_type": "markdown",
   "id": "fd676586-3440-43eb-bfe8-8783f624524c",
   "metadata": {},
   "source": [
    "# np.tile(..., (3, 1))\n",
    "This means:\n",
    "Repeat the array 3 times along the row axis (axis 0),\n",
    "Repeat 1 time along the column axis (axis 1).\n",
    "Think of the original 1D array [0, 10, 20, 30] as a row. Tiling it with (3, 1) will stack it vertically 3 times:"
   ]
  },
  {
   "cell_type": "code",
   "execution_count": 37,
   "id": "dca05bae-2f96-438d-833a-4ed9abf47ced",
   "metadata": {},
   "outputs": [
    {
     "data": {
      "text/plain": [
       "array([ 0, 10, 20, 30])"
      ]
     },
     "execution_count": 37,
     "metadata": {},
     "output_type": "execute_result"
    }
   ],
   "source": [
    "np.arange(0,40,10)"
   ]
  },
  {
   "cell_type": "code",
   "execution_count": 16,
   "id": "d4203cca-56fa-4755-a86d-eb378a3bcf30",
   "metadata": {},
   "outputs": [
    {
     "name": "stdout",
     "output_type": "stream",
     "text": [
      "[[ 0 10 20 30]\n",
      " [ 0 10 20 30]\n",
      " [ 0 10 20 30]]\n"
     ]
    }
   ],
   "source": [
    "t= np.tile(np.arange(0,40,10), (3,1))\n",
    "print(t)"
   ]
  },
  {
   "cell_type": "code",
   "execution_count": 17,
   "id": "c28351d3-0f15-4937-9530-b58f0d30efc9",
   "metadata": {},
   "outputs": [
    {
     "name": "stdout",
     "output_type": "stream",
     "text": [
      "[[ 0 10 20 30  0 10 20 30]\n",
      " [ 0 10 20 30  0 10 20 30]\n",
      " [ 0 10 20 30  0 10 20 30]]\n"
     ]
    }
   ],
   "source": [
    "t= np.tile(np.arange(0,40,10), (3,2))\n",
    "print(t)"
   ]
  },
  {
   "cell_type": "code",
   "execution_count": 18,
   "id": "03d206b8-9eb5-4b9a-9f09-1ea025445aa0",
   "metadata": {},
   "outputs": [
    {
     "name": "stdout",
     "output_type": "stream",
     "text": [
      "[[ 0 10 20 30  0 10 20 30]\n",
      " [ 0 10 20 30  0 10 20 30]\n",
      " [ 0 10 20 30  0 10 20 30]\n",
      " [ 0 10 20 30  0 10 20 30]]\n"
     ]
    }
   ],
   "source": [
    "t= np.tile(np.arange(0,40,10), (4,2))\n",
    "print(t)"
   ]
  },
  {
   "cell_type": "code",
   "execution_count": 19,
   "id": "9c74a949-1039-42c9-8ba8-be5cae153f2f",
   "metadata": {},
   "outputs": [
    {
     "data": {
      "text/plain": [
       "(4,)"
      ]
     },
     "execution_count": 19,
     "metadata": {},
     "output_type": "execute_result"
    }
   ],
   "source": [
    "a = np.arange(0, 40, 10)\n",
    "a.shape"
   ]
  },
  {
   "cell_type": "code",
   "execution_count": 22,
   "id": "3098a33d-857f-4915-a3d5-92bbeabe8584",
   "metadata": {},
   "outputs": [
    {
     "data": {
      "text/plain": [
       "(4, 1, 1)"
      ]
     },
     "execution_count": 22,
     "metadata": {},
     "output_type": "execute_result"
    }
   ],
   "source": [
    "# converts 1D array to 2D array here\n",
    "a = a[:,np.newaxis]\n",
    "a.shape"
   ]
  },
  {
   "cell_type": "code",
   "execution_count": 21,
   "id": "55ba1512-1810-4e9a-a2aa-79a4477b6658",
   "metadata": {},
   "outputs": [
    {
     "data": {
      "text/plain": [
       "array([[ 0],\n",
       "       [10],\n",
       "       [20],\n",
       "       [30]])"
      ]
     },
     "execution_count": 21,
     "metadata": {},
     "output_type": "execute_result"
    }
   ],
   "source": [
    "a"
   ]
  },
  {
   "cell_type": "markdown",
   "id": "2e6b8539-b8cd-43ea-9552-b7425e03817d",
   "metadata": {},
   "source": [
    "# Array Manipulation"
   ]
  },
  {
   "cell_type": "markdown",
   "id": "7b22ae02-e401-4ed1-bfeb-169f4d774775",
   "metadata": {},
   "source": [
    "* Flattening"
   ]
  },
  {
   "cell_type": "markdown",
   "id": "897d27a5-15df-4b9b-8b0d-6267a132e153",
   "metadata": {},
   "source": [
    "* The ravel() function returns a flattened (1D) version of an array. "
   ]
  },
  {
   "cell_type": "code",
   "execution_count": 25,
   "id": "a48400d9-b6a2-4c94-a0ee-2e1be7068820",
   "metadata": {},
   "outputs": [
    {
     "name": "stdout",
     "output_type": "stream",
     "text": [
      "[1 2 3 4 5 6]\n"
     ]
    }
   ],
   "source": [
    "a = np.array([[1,2,3],[4,5,6]])\n",
    "b = a.ravel()\n",
    "print(b)"
   ]
  },
  {
   "cell_type": "markdown",
   "id": "881abe35-6ef3-47a7-9303-5355af4cd326",
   "metadata": {},
   "source": [
    "* reshape() is used to change the shape of an array without changing its data.\n",
    "* numpy.reshape(a, newshape)"
   ]
  },
  {
   "cell_type": "code",
   "execution_count": 26,
   "id": "04940dab-6c74-44f5-af51-477f26f1144c",
   "metadata": {},
   "outputs": [
    {
     "name": "stdout",
     "output_type": "stream",
     "text": [
      "[[1 2]\n",
      " [3 4]\n",
      " [5 6]]\n"
     ]
    }
   ],
   "source": [
    "c = b.reshape(3,2)\n",
    "print(c)"
   ]
  },
  {
   "cell_type": "markdown",
   "id": "291ae070-a892-471c-8946-af4aade1f0c7",
   "metadata": {},
   "source": [
    "# Sort"
   ]
  },
  {
   "cell_type": "code",
   "execution_count": 30,
   "id": "f2eb4f9e-c5dd-46d8-9ec6-6cd4e6bcc734",
   "metadata": {},
   "outputs": [
    {
     "name": "stdout",
     "output_type": "stream",
     "text": [
      "[[ 4  5  6]\n",
      " [ 8  9 41]]\n"
     ]
    }
   ],
   "source": [
    "a = np.array([[6,5,4], [8,9,41]])\n",
    "a = np.sort(a, axis = 1)\n",
    "print(a)"
   ]
  },
  {
   "cell_type": "code",
   "execution_count": 31,
   "id": "f2379766-9441-46d6-ab98-d1546f7fd5a6",
   "metadata": {},
   "outputs": [
    {
     "data": {
      "text/plain": [
       "array([[ 4,  5,  6],\n",
       "       [ 8,  9, 41]])"
      ]
     },
     "execution_count": 31,
     "metadata": {},
     "output_type": "execute_result"
    }
   ],
   "source": [
    "a = np.array([[6,5,4], [8,9,41]])\n",
    "a.sort(axis = 1)\n",
    "a"
   ]
  },
  {
   "cell_type": "markdown",
   "id": "70863bf0-bead-4380-b486-9c738570f085",
   "metadata": {},
   "source": [
    "# Fancy Indexing"
   ]
  },
  {
   "cell_type": "code",
   "execution_count": 33,
   "id": "c0fdec44-d58a-4b8a-8b01-b7f991f03f53",
   "metadata": {},
   "outputs": [],
   "source": [
    "# Fancy indexing is a powerful NumPy feature that allows you to access or modify array elements using arrays or lists of indices, rather than just slices."
   ]
  },
  {
   "cell_type": "code",
   "execution_count": 35,
   "id": "b1b11881-b436-4fad-96a8-51957fc053a8",
   "metadata": {},
   "outputs": [
    {
     "data": {
      "text/plain": [
       "array([3, 1, 0, 2])"
      ]
     },
     "execution_count": 35,
     "metadata": {},
     "output_type": "execute_result"
    }
   ],
   "source": [
    "a = np.array([4,3,7,1])\n",
    "index = np.argsort(a)\n",
    "index"
   ]
  },
  {
   "cell_type": "code",
   "execution_count": 36,
   "id": "0a8fa1ee-3e89-472f-8ed1-eddcde104cb2",
   "metadata": {},
   "outputs": [
    {
     "data": {
      "text/plain": [
       "array([1, 3, 4, 7])"
      ]
     },
     "execution_count": 36,
     "metadata": {},
     "output_type": "execute_result"
    }
   ],
   "source": [
    "a[index]"
   ]
  },
  {
   "cell_type": "code",
   "execution_count": null,
   "id": "b84470e1-c86c-47b1-96b4-05c8d9449238",
   "metadata": {},
   "outputs": [],
   "source": []
  }
 ],
 "metadata": {
  "kernelspec": {
   "display_name": "Python 3 (ipykernel)",
   "language": "python",
   "name": "python3"
  },
  "language_info": {
   "codemirror_mode": {
    "name": "ipython",
    "version": 3
   },
   "file_extension": ".py",
   "mimetype": "text/x-python",
   "name": "python",
   "nbconvert_exporter": "python",
   "pygments_lexer": "ipython3",
   "version": "3.12.4"
  }
 },
 "nbformat": 4,
 "nbformat_minor": 5
}
