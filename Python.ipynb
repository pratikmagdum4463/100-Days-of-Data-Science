{
 "cells": [
  {
   "cell_type": "code",
   "execution_count": 1,
   "id": "596762f7-d66f-4d4c-96a7-e2465cefa179",
   "metadata": {},
   "outputs": [],
   "source": [
    "lst = ['one',2,True]"
   ]
  },
  {
   "cell_type": "code",
   "execution_count": 2,
   "id": "14191a8d-d843-466e-9f41-6ddb23ba6bf2",
   "metadata": {},
   "outputs": [
    {
     "name": "stdout",
     "output_type": "stream",
     "text": [
      "['one', 2, True]\n"
     ]
    }
   ],
   "source": [
    "print(lst)"
   ]
  },
  {
   "cell_type": "markdown",
   "id": "adfc7392-fb3e-44f1-bd78-0fa388ba0be0",
   "metadata": {},
   "source": [
    "To find the length of the list, we use 'len' function."
   ]
  },
  {
   "cell_type": "code",
   "execution_count": 5,
   "id": "657ba2a0-eab9-4c43-afc4-4f4754a3bb5c",
   "metadata": {},
   "outputs": [
    {
     "name": "stdout",
     "output_type": "stream",
     "text": [
      "3\n"
     ]
    }
   ],
   "source": [
    "print(len(lst))"
   ]
  },
  {
   "cell_type": "markdown",
   "id": "04522aef-779f-4f7d-b4f5-4d21dd04ca2e",
   "metadata": {},
   "source": [
    "list.insert(index, element)\n",
    "index: Position where you want to insert the element.\n",
    "element: The item to be inserted.\n"
   ]
  },
  {
   "cell_type": "code",
   "execution_count": 22,
   "id": "9cbc555b-9618-479c-a286-e1f2724c8877",
   "metadata": {},
   "outputs": [
    {
     "name": "stdout",
     "output_type": "stream",
     "text": [
      "['MAGDUM', 'PRATIIK']\n"
     ]
    }
   ],
   "source": [
    "test = ['MAGDUM','PRATIIK']\n",
    "print(test)"
   ]
  },
  {
   "cell_type": "code",
   "execution_count": 23,
   "id": "c81b796e-ff58-45d6-886b-8b84c7443c5e",
   "metadata": {},
   "outputs": [
    {
     "name": "stdout",
     "output_type": "stream",
     "text": [
      "['MAGDUM', 'DADASAHEB', 'PRATIIK']\n"
     ]
    }
   ],
   "source": [
    "test.insert(1,'DADASAHEB')\n",
    "print(test)"
   ]
  },
  {
   "cell_type": "markdown",
   "id": "8aeb8d2a-3978-400a-a0bf-6cca19df432b",
   "metadata": {},
   "source": [
    "The list.remove() function in Python is used to remove the first occurrence of a specific value from a list."
   ]
  },
  {
   "cell_type": "code",
   "execution_count": 26,
   "id": "683684fc-2ea2-4f72-bae3-bae8779f9ca1",
   "metadata": {},
   "outputs": [
    {
     "name": "stdout",
     "output_type": "stream",
     "text": [
      "['MAGDUM', 'PRATIIK', 'DADASAHEB', 'PRATIIK']\n",
      "['MAGDUM', 'PRATIIK', 'PRATIIK', 'DADASAHEB', 'PRATIIK']\n"
     ]
    }
   ],
   "source": [
    "print(test)\n",
    "test.insert(1,'PRATIIK')\n",
    "print(test)"
   ]
  },
  {
   "cell_type": "code",
   "execution_count": 27,
   "id": "0b0f76e6-c7fb-4212-af14-9be9409c1391",
   "metadata": {},
   "outputs": [
    {
     "name": "stdout",
     "output_type": "stream",
     "text": [
      "['MAGDUM', 'PRATIIK', 'DADASAHEB', 'PRATIIK']\n"
     ]
    }
   ],
   "source": [
    "test.remove('PRATIIK')\n",
    "print(test)"
   ]
  },
  {
   "cell_type": "markdown",
   "id": "2a6d6a45-6d13-46e3-b3d9-f74ca488fba9",
   "metadata": {},
   "source": [
    "The list.append() method in Python is used to add an element to the end of a list."
   ]
  },
  {
   "cell_type": "code",
   "execution_count": 28,
   "id": "f1b4583d-d5b0-4ba2-a879-2b31a22c6139",
   "metadata": {},
   "outputs": [
    {
     "name": "stdout",
     "output_type": "stream",
     "text": [
      "['MAGDUM', 'PRATIIK', 'DADASAHEB', 'PRATIIK', 'DHULA']\n"
     ]
    }
   ],
   "source": [
    "test.append('DHULA')\n",
    "print(test)"
   ]
  },
  {
   "cell_type": "code",
   "execution_count": 29,
   "id": "71bc389e-c5c8-4d67-9de2-a147833f68f5",
   "metadata": {},
   "outputs": [
    {
     "name": "stdout",
     "output_type": "stream",
     "text": [
      "['apple', 'banana', ['MOGRA', 'Sunflower']]\n"
     ]
    }
   ],
   "source": [
    "fruits = ['apple', 'banana']\n",
    "flowers = ['MOGRA','Sunflower']\n",
    "fruits.append(flowers)\n",
    "print(fruits)"
   ]
  },
  {
   "cell_type": "code",
   "execution_count": 30,
   "id": "53ab0352-a8d4-43a8-bf74-94c95d82af22",
   "metadata": {},
   "outputs": [
    {
     "name": "stdout",
     "output_type": "stream",
     "text": [
      "['apple', 'banana', ['MOGRA', 'Sunflower']]\n"
     ]
    }
   ],
   "source": [
    "print(fruits)"
   ]
  },
  {
   "cell_type": "code",
   "execution_count": 31,
   "id": "47cee70e-dad2-4db3-99d9-88c513188aa1",
   "metadata": {},
   "outputs": [],
   "source": [
    "fruits = ['pineapple','mango','strawberry']"
   ]
  },
  {
   "cell_type": "code",
   "execution_count": 32,
   "id": "cbba6fe1-4271-4050-85a1-6dd6ee7bd6c7",
   "metadata": {},
   "outputs": [],
   "source": [
    "more_fruits = ['orange','mosambi']"
   ]
  },
  {
   "cell_type": "code",
   "execution_count": 35,
   "id": "9da36159-6750-49a6-8fcb-26c06b7dd9b3",
   "metadata": {},
   "outputs": [],
   "source": [
    "fruits.extend(more_fruits)"
   ]
  },
  {
   "cell_type": "code",
   "execution_count": 36,
   "id": "2494bc3b-41b3-429d-96fd-4efe5e0effc9",
   "metadata": {},
   "outputs": [
    {
     "name": "stdout",
     "output_type": "stream",
     "text": [
      "['pineapple', 'mango', 'strawberry', 'orange', 'mosambi']\n"
     ]
    }
   ],
   "source": [
    "print(fruits)"
   ]
  },
  {
   "cell_type": "markdown",
   "id": "cb88c4f9-8059-4007-b861-4f1205565540",
   "metadata": {},
   "source": [
    "- **List Delete**"
   ]
  },
  {
   "cell_type": "markdown",
   "id": "006cedd0-72fa-4ab8-bfb8-45419895a493",
   "metadata": {},
   "source": [
    "list.pop([index])\n",
    "index (optional): The position of the item to remove.\n",
    "If you don’t provide it, the last item is removed."
   ]
  },
  {
   "cell_type": "code",
   "execution_count": 37,
   "id": "24684359-972c-48dc-a565-c00501a9dcb7",
   "metadata": {},
   "outputs": [
    {
     "name": "stdout",
     "output_type": "stream",
     "text": [
      "['pineapple', 'mango']\n"
     ]
    }
   ],
   "source": [
    "fruits = ['pineapple','mango','strawberry']\n",
    "fruits.pop()\n",
    "print(fruits)"
   ]
  },
  {
   "cell_type": "code",
   "execution_count": 38,
   "id": "89594abe-215b-4034-8492-245bfe87f9c6",
   "metadata": {},
   "outputs": [
    {
     "name": "stdout",
     "output_type": "stream",
     "text": [
      "['mango']\n"
     ]
    }
   ],
   "source": [
    "fruits.pop(0)\n",
    "print(fruits)"
   ]
  },
  {
   "cell_type": "markdown",
   "id": "ab3cc684-2d3f-44f9-ba8f-2fcc847e1ad7",
   "metadata": {},
   "source": [
    "**Remove** Removes the first occurrence of a specific **value** from the list. "
   ]
  },
  {
   "cell_type": "code",
   "execution_count": 42,
   "id": "8e86d5b9-114f-493c-aa64-cf3bfd37f431",
   "metadata": {},
   "outputs": [
    {
     "name": "stdout",
     "output_type": "stream",
     "text": [
      "['pineapple', 'strawberry', 'mango']\n"
     ]
    }
   ],
   "source": [
    "fruits = ['pineapple','mango','strawberry','mango']\n",
    "fruits.remove('mango')\n",
    "print(fruits)"
   ]
  },
  {
   "cell_type": "code",
   "execution_count": 43,
   "id": "2cadb065-138b-4219-ab99-a72d9213677d",
   "metadata": {},
   "outputs": [
    {
     "ename": "TypeError",
     "evalue": "list.remove() takes exactly one argument (0 given)",
     "output_type": "error",
     "traceback": [
      "\u001b[1;31m---------------------------------------------------------------------------\u001b[0m",
      "\u001b[1;31mTypeError\u001b[0m                                 Traceback (most recent call last)",
      "Cell \u001b[1;32mIn[43], line 1\u001b[0m\n\u001b[1;32m----> 1\u001b[0m \u001b[43mfruits\u001b[49m\u001b[38;5;241;43m.\u001b[39;49m\u001b[43mremove\u001b[49m\u001b[43m(\u001b[49m\u001b[43m)\u001b[49m\n",
      "\u001b[1;31mTypeError\u001b[0m: list.remove() takes exactly one argument (0 given)"
     ]
    }
   ],
   "source": [
    "fruits.remove()"
   ]
  },
  {
   "cell_type": "markdown",
   "id": "9bcf755b-766c-47d3-aba4-b34131100c57",
   "metadata": {},
   "source": [
    "The **sorted()** function in Python is used to return a new sorted list from any iterable (like a list, tuple, or string), without modifying the original.\n",
    "\n",
    "sorted(iterable, key=None, reverse=False)\n"
   ]
  },
  {
   "cell_type": "code",
   "execution_count": 45,
   "id": "e11ff7ca-27c5-48bd-8719-3f3da776b430",
   "metadata": {},
   "outputs": [
    {
     "name": "stdout",
     "output_type": "stream",
     "text": [
      "[1, 3, 4, 5, 6, 7, 9, 15, 45, 56, 65, 74, 89, 654]\n"
     ]
    }
   ],
   "source": [
    "numbers = [15,1,3,6,9,7,74,45,654,4,5,56,65,89]\n",
    "print(sorted(numbers))"
   ]
  },
  {
   "cell_type": "code",
   "execution_count": 46,
   "id": "1945e6f8-aa66-4e41-8281-44b83858464b",
   "metadata": {},
   "outputs": [
    {
     "name": "stdout",
     "output_type": "stream",
     "text": [
      "[15, 1, 3, 6, 9, 7, 74, 45, 654, 4, 5, 56, 65, 89]\n"
     ]
    }
   ],
   "source": [
    "print(numbers)"
   ]
  },
  {
   "cell_type": "code",
   "execution_count": 49,
   "id": "8b376c2f-858c-4663-95db-67c49a3170c2",
   "metadata": {},
   "outputs": [
    {
     "name": "stdout",
     "output_type": "stream",
     "text": [
      "[654, 89, 74, 65, 56, 45, 15, 9, 7, 6, 5, 4, 3, 1]\n"
     ]
    }
   ],
   "source": [
    "print(sorted(numbers, reverse = True))"
   ]
  },
  {
   "cell_type": "markdown",
   "id": "e2a6b290-64fe-45c9-9713-b30b38d0df68",
   "metadata": {},
   "source": [
    "- **Sorted()**\n",
    "1. Works on any iterable (like list, tuple, string).\n",
    "2. Returns a new sorted list.\n",
    "3. Does not change the original.\n",
    "\n",
    "- **Sort()**\n",
    "1. Works only on lists.\n",
    "2. Sorts the list in place (modifies the original).\n",
    "3. Returns None."
   ]
  },
  {
   "cell_type": "code",
   "execution_count": 48,
   "id": "1b3d848a-43cc-47c3-9759-4b62c45161ab",
   "metadata": {},
   "outputs": [
    {
     "name": "stdout",
     "output_type": "stream",
     "text": [
      "[1, 3, 4, 5, 6, 7, 9, 15, 45, 56, 65, 74, 89, 654]\n"
     ]
    }
   ],
   "source": [
    "numbers.sort()\n",
    "print(numbers)"
   ]
  },
  {
   "cell_type": "markdown",
   "id": "dd9111ee-80d5-4c35-81ff-18143eec02d1",
   "metadata": {},
   "source": [
    "- **in**\n",
    "- The keyword in in Python is used to check if a value exists in a sequence (like a list, tuple, string, set, or dictionary)."
   ]
  },
  {
   "cell_type": "code",
   "execution_count": 51,
   "id": "449ec758-fe84-4821-8bac-0e2725212629",
   "metadata": {},
   "outputs": [
    {
     "name": "stdout",
     "output_type": "stream",
     "text": [
      "True\n"
     ]
    }
   ],
   "source": [
    "fruits = ['apple', 'banana', 'cherry']\n",
    "print('banana' in fruits)  # True"
   ]
  },
  {
   "cell_type": "code",
   "execution_count": 53,
   "id": "fa736d21-6986-4c35-b67a-768e164271af",
   "metadata": {},
   "outputs": [
    {
     "name": "stdout",
     "output_type": "stream",
     "text": [
      "True\n"
     ]
    }
   ],
   "source": [
    "str = 'Hello World'\n",
    "print('Hello' in str)"
   ]
  },
  {
   "cell_type": "markdown",
   "id": "8ad13508-0b61-46d1-a24b-1515d9b7bcef",
   "metadata": {},
   "source": [
    "- **split**\n",
    "Breaks a string into a list.\n",
    "\n",
    "Separator is the character (or word) you want to split by.\n",
    "\n",
    "maxsplit (optional) tells how many times to split."
   ]
  },
  {
   "cell_type": "code",
   "execution_count": 54,
   "id": "7e72046f-01d1-4082-8979-82f8dfc7aa16",
   "metadata": {},
   "outputs": [
    {
     "name": "stdout",
     "output_type": "stream",
     "text": [
      "['Hello World']\n",
      "<class 'list'>\n"
     ]
    }
   ],
   "source": [
    "split = str.split(',')\n",
    "print(split)\n",
    "print(type(split))"
   ]
  },
  {
   "cell_type": "markdown",
   "id": "f1aafac1-cbee-48f4-91cc-cd7c6aea31f6",
   "metadata": {},
   "source": [
    "**List Indexing**"
   ]
  },
  {
   "cell_type": "code",
   "execution_count": 57,
   "id": "9b04e0ee-810a-4357-ba51-a28b4c7a8424",
   "metadata": {},
   "outputs": [
    {
     "name": "stdout",
     "output_type": "stream",
     "text": [
      "99\n"
     ]
    }
   ],
   "source": [
    "lst = [1,25,6,99]\n",
    "print(lst[-1])"
   ]
  },
  {
   "cell_type": "markdown",
   "id": "7bb73df7-c631-4e73-a140-2b9d49d61fac",
   "metadata": {},
   "source": [
    "**Slice**\n",
    "list[start : end : step]"
   ]
  },
  {
   "cell_type": "code",
   "execution_count": 59,
   "id": "6805c868-708c-4769-b6b3-1a43a3e387fb",
   "metadata": {},
   "outputs": [
    {
     "data": {
      "text/plain": [
       "['banana', 'date']"
      ]
     },
     "execution_count": 59,
     "metadata": {},
     "output_type": "execute_result"
    }
   ],
   "source": [
    "fruits = ['apple', 'banana', 'cherry', 'date', 'elderberry']\n",
    "fruits[1:5:2]"
   ]
  },
  {
   "cell_type": "code",
   "execution_count": 60,
   "id": "ec0d626e-2397-4f5c-8bad-aca2eb89b170",
   "metadata": {},
   "outputs": [
    {
     "data": {
      "text/plain": [
       "['banana']"
      ]
     },
     "execution_count": 60,
     "metadata": {},
     "output_type": "execute_result"
    }
   ],
   "source": [
    "fruits = ['apple', 'banana', 'cherry', 'date', 'elderberry']\n",
    "fruits[1:2]"
   ]
  },
  {
   "cell_type": "code",
   "execution_count": 61,
   "id": "2847dbea-76a2-4d81-a6af-e3f864f7b57e",
   "metadata": {},
   "outputs": [
    {
     "data": {
      "text/plain": [
       "['banana', 'cherry', 'date']"
      ]
     },
     "execution_count": 61,
     "metadata": {},
     "output_type": "execute_result"
    }
   ],
   "source": [
    "fruits[1:4]"
   ]
  },
  {
   "cell_type": "code",
   "execution_count": 62,
   "id": "f1c14c25-ef7f-4bdd-8941-4d87bd6a4e2e",
   "metadata": {},
   "outputs": [
    {
     "data": {
      "text/plain": [
       "['banana', 'cherry', 'date']"
      ]
     },
     "execution_count": 62,
     "metadata": {},
     "output_type": "execute_result"
    }
   ],
   "source": [
    "fruits[-4:-1]"
   ]
  },
  {
   "cell_type": "markdown",
   "id": "fb8c3151-aeb4-4680-8e76-e32da5d6add7",
   "metadata": {},
   "source": [
    "- Reverse a list with slicing:"
   ]
  },
  {
   "cell_type": "code",
   "execution_count": 63,
   "id": "123ebf88-6e27-4c3a-9ad7-9c65fa66100b",
   "metadata": {},
   "outputs": [
    {
     "name": "stdout",
     "output_type": "stream",
     "text": [
      "['elderberry', 'date', 'cherry', 'banana', 'apple']\n"
     ]
    }
   ],
   "source": [
    "print(fruits[::-1]) #Reverse a list with slicing"
   ]
  },
  {
   "cell_type": "markdown",
   "id": "0b0af3ad-f637-416e-9daa-99363f237c8d",
   "metadata": {},
   "source": [
    "- **List Extention using +**"
   ]
  },
  {
   "cell_type": "code",
   "execution_count": 2,
   "id": "2efc3d77-3fa0-4bf8-8358-b8c058189d4d",
   "metadata": {},
   "outputs": [
    {
     "name": "stdout",
     "output_type": "stream",
     "text": [
      "[1, 2, 3, 4, 'abc', 'pratik', 'dadasaheb', 'magdum']\n"
     ]
    }
   ],
   "source": [
    "lst = [1,2,3,4]\n",
    "lst2 = ['abc','pratik', 'dadasaheb','magdum']\n",
    "lst_final = lst + lst2\n",
    "print(lst_final)"
   ]
  },
  {
   "cell_type": "markdown",
   "id": "933b2d47-affb-4fc3-877c-1cb42ca5da26",
   "metadata": {},
   "source": [
    "- count how many times an item appears in a list, you use the .count() method"
   ]
  },
  {
   "cell_type": "code",
   "execution_count": 3,
   "id": "ccea9789-0ae6-405d-92e2-e068510f80a8",
   "metadata": {},
   "outputs": [
    {
     "name": "stdout",
     "output_type": "stream",
     "text": [
      "7\n"
     ]
    }
   ],
   "source": [
    "fruits = ['apple', 'banana', 'apple','cherry','apple', 'date','apple','apple','apple','apple', 'elderberry']\n",
    "print(fruits.count('apple'))\n"
   ]
  },
  {
   "cell_type": "code",
   "execution_count": 4,
   "id": "3f6517d5-a9f1-4809-ae1c-afcec9d58c66",
   "metadata": {},
   "outputs": [
    {
     "name": "stdout",
     "output_type": "stream",
     "text": [
      "[[1, 4], [2, 5], [3, 6]]\n"
     ]
    }
   ],
   "source": [
    "matrix = [\n",
    "    [1,2,3],\n",
    "    [4,5,6]\n",
    "]\n",
    "\n",
    "transform = []\n",
    "for i in range(3):\n",
    "    lst = []\n",
    "    for row in matrix:\n",
    "        lst.append(row[i])\n",
    "    transform.append(lst)\n",
    "\n",
    "print(transform)"
   ]
  },
  {
   "cell_type": "markdown",
   "id": "8b200515-e31b-47c5-a851-749e944fa790",
   "metadata": {},
   "source": [
    "- **Tuple**\n",
    "- A tuple is like a list — it stores multiple items.\n",
    "- But, tuples are immutable — 📌 once you create it, you can't change it (no add, remove, or modify).\n",
    "- Tuples use parentheses (), while lists use brackets []\n",
    "- Tuple items are ordered, unchangeable, and allow duplicate values.\n"
   ]
  },
  {
   "cell_type": "code",
   "execution_count": 5,
   "id": "c37b9cdf-f04c-4c0c-88cc-f1afeb77e679",
   "metadata": {},
   "outputs": [
    {
     "name": "stdout",
     "output_type": "stream",
     "text": [
      "<class 'str'>\n"
     ]
    }
   ],
   "source": [
    "tup = ('pratik')\n",
    "print(type(tup))"
   ]
  },
  {
   "cell_type": "code",
   "execution_count": 7,
   "id": "98e29a26-175f-4296-9596-ea948bca8138",
   "metadata": {},
   "outputs": [
    {
     "name": "stdout",
     "output_type": "stream",
     "text": [
      "<class 'tuple'>\n"
     ]
    }
   ],
   "source": [
    "tup = ('pratik',) #comma with () round bracket gives the type as tuple\n",
    "print(type(tup))"
   ]
  },
  {
   "cell_type": "code",
   "execution_count": 14,
   "id": "cd794d98-2bfa-423e-b9eb-8712cecfc448",
   "metadata": {},
   "outputs": [
    {
     "name": "stdout",
     "output_type": "stream",
     "text": [
      "banana\n",
      "cherry\n",
      "('cherry',)\n",
      "('apple', 'banana', 'cherry')\n",
      "('banana', 'cherry')\n"
     ]
    }
   ],
   "source": [
    "thistuple = (\"apple\", \"banana\", \"cherry\")\n",
    "print(thistuple[1])\n",
    "print(thistuple[-1])\n",
    "print(thistuple[2:5])\n",
    "print(thistuple[:4])\n",
    "print(thistuple[1:])"
   ]
  },
  {
   "cell_type": "markdown",
   "id": "20a45ac6-5650-420d-8c59-fd198b5af632",
   "metadata": {},
   "source": [
    "- Update tuples"
   ]
  },
  {
   "cell_type": "code",
   "execution_count": 16,
   "id": "36519283-d13a-49ca-9cee-4f575b8dc3c0",
   "metadata": {},
   "outputs": [
    {
     "name": "stdout",
     "output_type": "stream",
     "text": [
      "('apple', 'banana', 'cherry')\n"
     ]
    }
   ],
   "source": [
    "thistuple = (\"apple\", \"banana\", \"cherry\")\n",
    "y = list(thistuple)\n",
    "y.append('orange')\n",
    "print(tuple(thistuple))"
   ]
  },
  {
   "cell_type": "markdown",
   "id": "eca776c1-9010-4927-83f1-4f53cd05a206",
   "metadata": {},
   "source": [
    "- Add tuple"
   ]
  },
  {
   "cell_type": "code",
   "execution_count": 17,
   "id": "d4ac1852-9183-46c3-9d6a-c643d8d295aa",
   "metadata": {},
   "outputs": [
    {
     "name": "stdout",
     "output_type": "stream",
     "text": [
      "('apple', 'banana', 'cherry', 'orange')\n"
     ]
    }
   ],
   "source": [
    "thistuple = (\"apple\", \"banana\", \"cherry\")\n",
    "y = (\"orange\",)\n",
    "thistuple = thistuple + y\n",
    "\n",
    "print(thistuple)"
   ]
  },
  {
   "cell_type": "code",
   "execution_count": 18,
   "id": "99ceeea3-cfae-45af-b68d-51b6ace1d98f",
   "metadata": {},
   "outputs": [
    {
     "name": "stdout",
     "output_type": "stream",
     "text": [
      "abc\n"
     ]
    }
   ],
   "source": [
    "thistuple = (\"apple\", \"banana\", \"cherry\",('abc','pratik', 'dadasaheb','magdum'))\n",
    "print(thistuple[3][0])"
   ]
  },
  {
   "cell_type": "code",
   "execution_count": 19,
   "id": "c2d13e85-e9bd-4cc2-a739-1cfdea3e205c",
   "metadata": {},
   "outputs": [
    {
     "name": "stdout",
     "output_type": "stream",
     "text": [
      "('apple', 'banana')\n"
     ]
    }
   ],
   "source": [
    "thistuple = (\"apple\", \"banana\", \"cherry\")\n",
    "print(thistuple[:-1])\n"
   ]
  },
  {
   "cell_type": "code",
   "execution_count": 20,
   "id": "39377ffe-387e-4fd1-aa2a-24bfa7ec27cb",
   "metadata": {},
   "outputs": [
    {
     "ename": "TypeError",
     "evalue": "'tuple' object does not support item assignment",
     "output_type": "error",
     "traceback": [
      "\u001b[1;31m---------------------------------------------------------------------------\u001b[0m",
      "\u001b[1;31mTypeError\u001b[0m                                 Traceback (most recent call last)",
      "Cell \u001b[1;32mIn[20], line 2\u001b[0m\n\u001b[0;32m      1\u001b[0m thistuple \u001b[38;5;241m=\u001b[39m (\u001b[38;5;124m\"\u001b[39m\u001b[38;5;124mapple\u001b[39m\u001b[38;5;124m\"\u001b[39m, \u001b[38;5;124m\"\u001b[39m\u001b[38;5;124mbanana\u001b[39m\u001b[38;5;124m\"\u001b[39m, \u001b[38;5;124m\"\u001b[39m\u001b[38;5;124mcherry\u001b[39m\u001b[38;5;124m\"\u001b[39m)\n\u001b[1;32m----> 2\u001b[0m \u001b[43mthistuple\u001b[49m\u001b[43m[\u001b[49m\u001b[38;5;241;43m1\u001b[39;49m\u001b[43m]\u001b[49m\u001b[38;5;241m=\u001b[39m\u001b[38;5;124m'\u001b[39m\u001b[38;5;124mx\u001b[39m\u001b[38;5;124m'\u001b[39m\n",
      "\u001b[1;31mTypeError\u001b[0m: 'tuple' object does not support item assignment"
     ]
    }
   ],
   "source": [
    "thistuple = (\"apple\", \"banana\", \"cherry\")\n",
    "thistuple[1]='x'"
   ]
  },
  {
   "cell_type": "code",
   "execution_count": 21,
   "id": "50affe5f-97b0-4f2e-9c18-f260bfc8f872",
   "metadata": {},
   "outputs": [
    {
     "name": "stdout",
     "output_type": "stream",
     "text": [
      "('apple', 'banana', 'cherry', 'abc', 'pratik', 'dadasaheb', 'magdum')\n"
     ]
    }
   ],
   "source": [
    "thistuple = (\"apple\", \"banana\", \"cherry\")\n",
    "thistuple2 = ('abc','pratik', 'dadasaheb','magdum')\n",
    "print(thistuple + thistuple2)"
   ]
  },
  {
   "cell_type": "code",
   "execution_count": 24,
   "id": "395dda40-78ec-4bec-95ad-b6d9b7fc7b7c",
   "metadata": {},
   "outputs": [
    {
     "name": "stdout",
     "output_type": "stream",
     "text": [
      "('apple', 'apple', 'apple', 'apple')\n"
     ]
    }
   ],
   "source": [
    "thistuple = (\"apple\",) * 4\n",
    "print(thistuple)"
   ]
  },
  {
   "cell_type": "code",
   "execution_count": 25,
   "id": "03850e8a-54ae-4b2f-b18b-27105427e0d7",
   "metadata": {},
   "outputs": [
    {
     "data": {
      "text/plain": [
       "('apple', 'apple', 'apple', 'apple')"
      ]
     },
     "execution_count": 25,
     "metadata": {},
     "output_type": "execute_result"
    }
   ],
   "source": [
    "thistuple"
   ]
  },
  {
   "cell_type": "code",
   "execution_count": 28,
   "id": "2c3bea82-eabd-4e4e-b93c-da5ddbaced69",
   "metadata": {},
   "outputs": [
    {
     "name": "stdout",
     "output_type": "stream",
     "text": [
      "True\n"
     ]
    }
   ],
   "source": [
    "print('apple' in thistuple)"
   ]
  },
  {
   "cell_type": "code",
   "execution_count": null,
   "id": "565b337f-24b9-4c7f-8c26-baf9280e5cd6",
   "metadata": {},
   "outputs": [],
   "source": []
  }
 ],
 "metadata": {
  "kernelspec": {
   "display_name": "Python 3 (ipykernel)",
   "language": "python",
   "name": "python3"
  },
  "language_info": {
   "codemirror_mode": {
    "name": "ipython",
    "version": 3
   },
   "file_extension": ".py",
   "mimetype": "text/x-python",
   "name": "python",
   "nbconvert_exporter": "python",
   "pygments_lexer": "ipython3",
   "version": "3.12.4"
  }
 },
 "nbformat": 4,
 "nbformat_minor": 5
}
